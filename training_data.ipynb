{
 "cells": [
  {
   "cell_type": "markdown",
   "id": "d4d8febf-c4ee-4b53-a3dc-a3e4b1edf39b",
   "metadata": {},
   "source": [
    "IMPORT LIBRARIES"
   ]
  },
  {
   "cell_type": "code",
   "execution_count": 16,
   "id": "fa60bc4c-64d0-4aed-a0ed-7cce827c66f7",
   "metadata": {},
   "outputs": [],
   "source": [
    "import pandas as pd\n",
    "import numpy as np\n",
    "from sklearn.model_selection import train_test_split\n",
    "from sklearn.preprocessing import StandardScaler, OneHotEncoder\n",
    "from sklearn.ensemble import RandomForestRegressor\n",
    "import joblib\n"
   ]
  },
  {
   "cell_type": "markdown",
   "id": "b60dcdfe-f423-457e-956d-dacf0c23b8c2",
   "metadata": {},
   "source": [
    "LOAD THE DATASET"
   ]
  },
  {
   "cell_type": "code",
   "execution_count": 17,
   "id": "f11d501b-e5ec-4228-9d18-64e75474765a",
   "metadata": {},
   "outputs": [],
   "source": [
    "df = pd.read_csv('flights.csv')\n"
   ]
  },
  {
   "cell_type": "markdown",
   "id": "0d68bed4-9402-4688-9ab2-543ddfbe3170",
   "metadata": {},
   "source": [
    "INSPECT THE DATA"
   ]
  },
  {
   "cell_type": "code",
   "execution_count": 18,
   "id": "05aad594-57a3-47a8-aebb-283836b1799b",
   "metadata": {},
   "outputs": [
    {
     "data": {
      "text/html": [
       "<div>\n",
       "<style scoped>\n",
       "    .dataframe tbody tr th:only-of-type {\n",
       "        vertical-align: middle;\n",
       "    }\n",
       "\n",
       "    .dataframe tbody tr th {\n",
       "        vertical-align: top;\n",
       "    }\n",
       "\n",
       "    .dataframe thead th {\n",
       "        text-align: right;\n",
       "    }\n",
       "</style>\n",
       "<table border=\"1\" class=\"dataframe\">\n",
       "  <thead>\n",
       "    <tr style=\"text-align: right;\">\n",
       "      <th></th>\n",
       "      <th>DEPARTURE_DELAY</th>\n",
       "      <th>AIRLINE</th>\n",
       "      <th>ORIGIN_AIRPORT</th>\n",
       "      <th>DESTINATION_AIRPORT</th>\n",
       "      <th>SCHEDULED_DEPARTURE</th>\n",
       "      <th>TAXI_OUT</th>\n",
       "      <th>ARRIVAL_DELAY</th>\n",
       "    </tr>\n",
       "  </thead>\n",
       "  <tbody>\n",
       "    <tr>\n",
       "      <th>0</th>\n",
       "      <td>92</td>\n",
       "      <td>AS</td>\n",
       "      <td>JFK</td>\n",
       "      <td>SFO</td>\n",
       "      <td>2108</td>\n",
       "      <td>10</td>\n",
       "      <td>98</td>\n",
       "    </tr>\n",
       "    <tr>\n",
       "      <th>1</th>\n",
       "      <td>82</td>\n",
       "      <td>SW</td>\n",
       "      <td>PHX</td>\n",
       "      <td>JFK</td>\n",
       "      <td>1152</td>\n",
       "      <td>21</td>\n",
       "      <td>90</td>\n",
       "    </tr>\n",
       "    <tr>\n",
       "      <th>2</th>\n",
       "      <td>4</td>\n",
       "      <td>UA</td>\n",
       "      <td>LAX</td>\n",
       "      <td>JFK</td>\n",
       "      <td>2015</td>\n",
       "      <td>14</td>\n",
       "      <td>-1</td>\n",
       "    </tr>\n",
       "    <tr>\n",
       "      <th>3</th>\n",
       "      <td>96</td>\n",
       "      <td>UA</td>\n",
       "      <td>PHX</td>\n",
       "      <td>LAS</td>\n",
       "      <td>155</td>\n",
       "      <td>5</td>\n",
       "      <td>117</td>\n",
       "    </tr>\n",
       "    <tr>\n",
       "      <th>4</th>\n",
       "      <td>61</td>\n",
       "      <td>AA</td>\n",
       "      <td>CLT</td>\n",
       "      <td>DFW</td>\n",
       "      <td>922</td>\n",
       "      <td>7</td>\n",
       "      <td>49</td>\n",
       "    </tr>\n",
       "  </tbody>\n",
       "</table>\n",
       "</div>"
      ],
      "text/plain": [
       "   DEPARTURE_DELAY AIRLINE ORIGIN_AIRPORT DESTINATION_AIRPORT  \\\n",
       "0               92      AS            JFK                 SFO   \n",
       "1               82      SW            PHX                 JFK   \n",
       "2                4      UA            LAX                 JFK   \n",
       "3               96      UA            PHX                 LAS   \n",
       "4               61      AA            CLT                 DFW   \n",
       "\n",
       "   SCHEDULED_DEPARTURE  TAXI_OUT  ARRIVAL_DELAY  \n",
       "0                 2108        10             98  \n",
       "1                 1152        21             90  \n",
       "2                 2015        14             -1  \n",
       "3                  155         5            117  \n",
       "4                  922         7             49  "
      ]
     },
     "execution_count": 18,
     "metadata": {},
     "output_type": "execute_result"
    }
   ],
   "source": [
    "df.head()"
   ]
  },
  {
   "cell_type": "code",
   "execution_count": 19,
   "id": "f912e463-5c1e-45e7-9508-f1c915763622",
   "metadata": {},
   "outputs": [
    {
     "name": "stdout",
     "output_type": "stream",
     "text": [
      "<class 'pandas.core.frame.DataFrame'>\n",
      "RangeIndex: 1000 entries, 0 to 999\n",
      "Data columns (total 7 columns):\n",
      " #   Column               Non-Null Count  Dtype \n",
      "---  ------               --------------  ----- \n",
      " 0   DEPARTURE_DELAY      1000 non-null   int64 \n",
      " 1   AIRLINE              1000 non-null   object\n",
      " 2   ORIGIN_AIRPORT       1000 non-null   object\n",
      " 3   DESTINATION_AIRPORT  1000 non-null   object\n",
      " 4   SCHEDULED_DEPARTURE  1000 non-null   int64 \n",
      " 5   TAXI_OUT             1000 non-null   int64 \n",
      " 6   ARRIVAL_DELAY        1000 non-null   int64 \n",
      "dtypes: int64(4), object(3)\n",
      "memory usage: 54.8+ KB\n"
     ]
    }
   ],
   "source": [
    "df.info()"
   ]
  },
  {
   "cell_type": "markdown",
   "id": "ec1acf0e-7528-4ae1-b21d-703c2617a819",
   "metadata": {},
   "source": [
    "HANDLE MISSING VALUES"
   ]
  },
  {
   "cell_type": "code",
   "execution_count": 20,
   "id": "5ff71035-5096-4413-b694-97a5ddefe304",
   "metadata": {},
   "outputs": [
    {
     "name": "stdout",
     "output_type": "stream",
     "text": [
      "Index(['DEPARTURE_DELAY', 'AIRLINE', 'ORIGIN_AIRPORT', 'DESTINATION_AIRPORT',\n",
      "       'SCHEDULED_DEPARTURE', 'TAXI_OUT', 'ARRIVAL_DELAY'],\n",
      "      dtype='object')\n"
     ]
    }
   ],
   "source": [
    "print(df.columns)"
   ]
  },
  {
   "cell_type": "code",
   "execution_count": 21,
   "id": "7973ed70-cde8-4b82-98d9-502cd9bb2878",
   "metadata": {},
   "outputs": [],
   "source": [
    "# Fill missing values\n",
    "df['ARRIVAL_DELAY'] = df['ARRIVAL_DELAY'].fillna(df['ARRIVAL_DELAY'].mean())\n",
    "df['DEPARTURE_DELAY'] = df['DEPARTURE_DELAY'].fillna(df['DEPARTURE_DELAY'].mean())\n",
    "df['TAXI_OUT'] = df['TAXI_OUT'].fillna(df['TAXI_OUT'].mean())\n",
    "df['AIRLINE'] = df['AIRLINE'].fillna(df['AIRLINE'].mode()[0])\n",
    "df['ORIGIN_AIRPORT'] = df['ORIGIN_AIRPORT'].fillna(df['ORIGIN_AIRPORT'].mode()[0])\n",
    "df['DESTINATION_AIRPORT'] = df['DESTINATION_AIRPORT'].fillna(df['DESTINATION_AIRPORT'].mode()[0])\n",
    "df['SCHEDULED_DEPARTURE'] = df['SCHEDULED_DEPARTURE'].fillna(df['SCHEDULED_DEPARTURE'].mode()[0])"
   ]
  },
  {
   "cell_type": "markdown",
   "id": "fcd16a3d",
   "metadata": {},
   "source": [
    "VISUALIZATION"
   ]
  },
  {
   "cell_type": "code",
   "execution_count": 22,
   "id": "1520a56b",
   "metadata": {},
   "outputs": [
    {
     "data": {
      "image/png": "[encoded data removed]",
      "text/plain": [
       "<Figure size 1000x600 with 1 Axes>"
      ]
     },
     "metadata": {},
     "output_type": "display_data"
    }
   ],
   "source": [
    "import matplotlib.pyplot as plt\n",
    "import seaborn as sns\n",
    "\n",
    "# Visualization 1: Distribution of Arrival Delays\n",
    "plt.figure(figsize=(10, 6))\n",
    "sns.histplot(df['ARRIVAL_DELAY'], kde=True, bins=30)\n",
    "plt.title('Distribution of Arrival Delays')\n",
    "plt.xlabel('Arrival Delay (minutes)')\n",
    "plt.ylabel('Frequency')\n",
    "plt.show()\n"
   ]
  },
  {
   "cell_type": "code",
   "execution_count": 23,
   "id": "028a44c3-575c-47bd-adf7-e02007a8e909",
   "metadata": {},
   "outputs": [
    {
     "data": {
      "image/png": "[encoded data removed]",
      "text/plain": [
       "<Figure size 1200x600 with 1 Axes>"
      ]
     },
     "metadata": {},
     "output_type": "display_data"
    }
   ],
   "source": [
    "# Visualization 2: Average Arrival Delay by Airline\n",
    "plt.figure(figsize=(12, 6))\n",
    "sns.barplot(x='AIRLINE', y='ARRIVAL_DELAY', data=df, estimator='mean', errorbar=None)\n",
    "plt.title('Average Arrival Delay by Airline')\n",
    "plt.xlabel('Airline')\n",
    "plt.ylabel('Average Arrival Delay (minutes)')\n",
    "plt.xticks(rotation=90)\n",
    "plt.show()\n"
   ]
  },
  {
   "cell_type": "markdown",
   "id": "0675cba9-07d2-4818-8a0e-f60171d48a09",
   "metadata": {},
   "source": [
    "FEATURE ENGINEERING"
   ]
  },
  {
   "cell_type": "markdown",
   "id": "8a20c89e-474c-46fc-826f-6d916c329d86",
   "metadata": {},
   "source": [
    "1. encode categorical features"
   ]
  },
  {
   "cell_type": "code",
   "execution_count": 24,
   "id": "79e4cf53-7898-472b-8d26-34146800f05c",
   "metadata": {},
   "outputs": [],
   "source": [
    "# One-hot encoding\n",
    "categorical_cols = ['AIRLINE', 'ORIGIN_AIRPORT', 'DESTINATION_AIRPORT']\n",
    "encoder = OneHotEncoder(handle_unknown='ignore', sparse_output=False)\n",
    "encoded_features = encoder.fit_transform(df[categorical_cols])\n",
    "encoded_df = pd.DataFrame(encoded_features, columns=encoder.get_feature_names_out(categorical_cols))"
   ]
  },
  {
   "cell_type": "code",
   "execution_count": 25,
   "id": "c5cc16af-e5c4-48df-b700-cfd241a46bae",
   "metadata": {},
   "outputs": [],
   "source": [
    "# Merge with numeric features\n",
    "df = df.drop(columns=categorical_cols)\n",
    "df = pd.concat([df.reset_index(drop=True), encoded_df.reset_index(drop=True)], axis=1)"
   ]
  },
  {
   "cell_type": "markdown",
   "id": "b5076a0c-7a04-4507-af84-9271eb1ae813",
   "metadata": {},
   "source": [
    "2. drop unnecessary columns"
   ]
  },
  {
   "cell_type": "markdown",
   "id": "72cd2dfc-ef25-400b-b2b1-becc61b93d31",
   "metadata": {},
   "source": [
    "3. feature selection"
   ]
  },
  {
   "cell_type": "code",
   "execution_count": 26,
   "id": "90681915-98c3-4ef3-a961-04945a8a75de",
   "metadata": {},
   "outputs": [],
   "source": [
    "X = df.drop(columns=['ARRIVAL_DELAY'])\n",
    "y = df['ARRIVAL_DELAY']\n"
   ]
  },
  {
   "cell_type": "markdown",
   "id": "2d07ad88-3cf6-4209-942d-07065d58df6e",
   "metadata": {},
   "source": [
    "SCALING FEATURES"
   ]
  },
  {
   "cell_type": "code",
   "execution_count": 27,
   "id": "76badc18-e97e-424a-b2e1-9ee47a23cf79",
   "metadata": {},
   "outputs": [],
   "source": [
    "from sklearn.preprocessing import StandardScaler\n",
    "\n",
    "scaler = StandardScaler()\n",
    "X_scaled = scaler.fit_transform(X)\n"
   ]
  },
  {
   "cell_type": "markdown",
   "id": "2dfe2da6-0864-4dcc-8f96-6d3a5018943f",
   "metadata": {},
   "source": [
    "TRAIN THE MODEL"
   ]
  },
  {
   "cell_type": "code",
   "execution_count": 28,
   "id": "1a7d612e-5622-40e4-ab1b-8f7b0a687c93",
   "metadata": {},
   "outputs": [
    {
     "data": {
      "text/html": [
       "<style>#sk-container-id-2 {color: black;background-color: white;}#sk-container-id-2 pre{padding: 0;}#sk-container-id-2 div.sk-toggleable {background-color: white;}#sk-container-id-2 label.sk-toggleable__label {cursor: pointer;display: block;width: 100%;margin-bottom: 0;padding: 0.3em;box-sizing: border-box;text-align: center;}#sk-container-id-2 label.sk-toggleable__label-arrow:before {content: \"▸\";float: left;margin-right: 0.25em;color: #696969;}#sk-container-id-2 label.sk-toggleable__label-arrow:hover:before {color: black;}#sk-container-id-2 div.sk-estimator:hover label.sk-toggleable__label-arrow:before {color: black;}#sk-container-id-2 div.sk-toggleable__content {max-height: 0;max-width: 0;overflow: hidden;text-align: left;background-color: #f0f8ff;}#sk-container-id-2 div.sk-toggleable__content pre {margin: 0.2em;color: black;border-radius: 0.25em;background-color: #f0f8ff;}#sk-container-id-2 input.sk-toggleable__control:checked~div.sk-toggleable__content {max-height: 200px;max-width: 100%;overflow: auto;}#sk-container-id-2 input.sk-toggleable__control:checked~label.sk-toggleable__label-arrow:before {content: \"▾\";}#sk-container-id-2 div.sk-estimator input.sk-toggleable__control:checked~label.sk-toggleable__label {background-color: #d4ebff;}#sk-container-id-2 div.sk-label input.sk-toggleable__control:checked~label.sk-toggleable__label {background-color: #d4ebff;}#sk-container-id-2 input.sk-hidden--visually {border: 0;clip: rect(1px 1px 1px 1px);clip: rect(1px, 1px, 1px, 1px);height: 1px;margin: -1px;overflow: hidden;padding: 0;position: absolute;width: 1px;}#sk-container-id-2 div.sk-estimator {font-family: monospace;background-color: #f0f8ff;border: 1px dotted black;border-radius: 0.25em;box-sizing: border-box;margin-bottom: 0.5em;}#sk-container-id-2 div.sk-estimator:hover {background-color: #d4ebff;}#sk-container-id-2 div.sk-parallel-item::after {content: \"\";width: 100%;border-bottom: 1px solid gray;flex-grow: 1;}#sk-container-id-2 div.sk-label:hover label.sk-toggleable__label {background-color: #d4ebff;}#sk-container-id-2 div.sk-serial::before {content: \"\";position: absolute;border-left: 1px solid gray;box-sizing: border-box;top: 0;bottom: 0;left: 50%;z-index: 0;}#sk-container-id-2 div.sk-serial {display: flex;flex-direction: column;align-items: center;background-color: white;padding-right: 0.2em;padding-left: 0.2em;position: relative;}#sk-container-id-2 div.sk-item {position: relative;z-index: 1;}#sk-container-id-2 div.sk-parallel {display: flex;align-items: stretch;justify-content: center;background-color: white;position: relative;}#sk-container-id-2 div.sk-item::before, #sk-container-id-2 div.sk-parallel-item::before {content: \"\";position: absolute;border-left: 1px solid gray;box-sizing: border-box;top: 0;bottom: 0;left: 50%;z-index: -1;}#sk-container-id-2 div.sk-parallel-item {display: flex;flex-direction: column;z-index: 1;position: relative;background-color: white;}#sk-container-id-2 div.sk-parallel-item:first-child::after {align-self: flex-end;width: 50%;}#sk-container-id-2 div.sk-parallel-item:last-child::after {align-self: flex-start;width: 50%;}#sk-container-id-2 div.sk-parallel-item:only-child::after {width: 0;}#sk-container-id-2 div.sk-dashed-wrapped {border: 1px dashed gray;margin: 0 0.4em 0.5em 0.4em;box-sizing: border-box;padding-bottom: 0.4em;background-color: white;}#sk-container-id-2 div.sk-label label {font-family: monospace;font-weight: bold;display: inline-block;line-height: 1.2em;}#sk-container-id-2 div.sk-label-container {text-align: center;}#sk-container-id-2 div.sk-container {/* jupyter's `normalize.less` sets `[hidden] { display: none; }` but bootstrap.min.css set `[hidden] { display: none !important; }` so we also need the `!important` here to be able to override the default hidden behavior on the sphinx rendered scikit-learn.org. See: https://github.com/scikit-learn/scikit-learn/issues/21755 */display: inline-block !important;position: relative;}#sk-container-id-2 div.sk-text-repr-fallback {display: none;}</style><div id=\"sk-container-id-2\" class=\"sk-top-container\"><div class=\"sk-text-repr-fallback\"><pre>RandomForestRegressor(max_depth=5, n_estimators=10, random_state=42)</pre><b>In a Jupyter environment, please rerun this cell to show the HTML representation or trust the notebook. <br />On GitHub, the HTML representation is unable to render, please try loading this page with nbviewer.org.</b></div><div class=\"sk-container\" hidden><div class=\"sk-item\"><div class=\"sk-estimator sk-toggleable\"><input class=\"sk-toggleable__control sk-hidden--visually\" id=\"sk-estimator-id-2\" type=\"checkbox\" checked><label for=\"sk-estimator-id-2\" class=\"sk-toggleable__label sk-toggleable__label-arrow\">RandomForestRegressor</label><div class=\"sk-toggleable__content\"><pre>RandomForestRegressor(max_depth=5, n_estimators=10, random_state=42)</pre></div></div></div></div></div>"
      ],
      "text/plain": [
       "RandomForestRegressor(max_depth=5, n_estimators=10, random_state=42)"
      ]
     },
     "execution_count": 28,
     "metadata": {},
     "output_type": "execute_result"
    }
   ],
   "source": [
    "from sklearn.ensemble import RandomForestRegressor\n",
    "\n",
    "# Train the model\n",
    "model = RandomForestRegressor(n_estimators=10,max_depth=5, random_state=42)\n",
    "model.fit(X_scaled, y)"
   ]
  },
  {
   "cell_type": "markdown",
   "id": "b3fdd396-3fb3-4146-869d-ef992e2527ef",
   "metadata": {},
   "source": [
    "SAVE TRAINED MODEL"
   ]
  },
  {
   "cell_type": "code",
   "execution_count": 29,
   "id": "9c2d744e-d672-420d-a11d-b4666ed0ccf4",
   "metadata": {},
   "outputs": [
    {
     "data": {
      "text/plain": [
       "['columns.pkl']"
      ]
     },
     "execution_count": 29,
     "metadata": {},
     "output_type": "execute_result"
    }
   ],
   "source": [
    "# Save\n",
    "joblib.dump(model, 'flight_delay_model.pkl')\n",
    "joblib.dump(scaler, 'scaler.pkl')\n",
    "joblib.dump(encoder, 'encoder.pkl')\n",
    "joblib.dump(X.columns.tolist(), 'columns.pkl')  # Save column order\n"
   ]
  },
  {
   "cell_type": "code",
   "execution_count": null,
   "id": "12e6d04c",
   "metadata": {},
   "outputs": [],
   "source": []
  }
 ],
 "metadata": {
  "kernelspec": {
   "display_name": "base",
   "language": "python",
   "name": "python3"
  },
  "language_info": {
   "codemirror_mode": {
    "name": "ipython",
    "version": 3
   },
   "file_extension": ".py",
   "mimetype": "text/x-python",
   "name": "python",
   "nbconvert_exporter": "python",
   "pygments_lexer": "ipython3",
   "version": "3.10.9"
  }
 },
 "nbformat": 4,
 "nbformat_minor": 5
}
